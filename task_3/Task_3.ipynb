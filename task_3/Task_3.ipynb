{
  "nbformat": 4,
  "nbformat_minor": 0,
  "metadata": {
    "colab": {
      "provenance": []
    },
    "kernelspec": {
      "name": "python3",
      "display_name": "Python 3"
    },
    "language_info": {
      "name": "python"
    }
  },
  "cells": [
    {
      "cell_type": "markdown",
      "source": [
        "### Setup"
      ],
      "metadata": {
        "id": "NsuITssMWreI"
      }
    },
    {
      "cell_type": "code",
      "source": [
        "!pip install pyspark"
      ],
      "metadata": {
        "id": "FB5GmHoLWJnu"
      },
      "execution_count": null,
      "outputs": []
    },
    {
      "cell_type": "code",
      "execution_count": 70,
      "metadata": {
        "id": "pkiLRDxeWAsN"
      },
      "outputs": [],
      "source": [
        "from collections import Counter, defaultdict\n",
        "import re\n",
        "\n",
        "from pyspark import SparkContext"
      ]
    },
    {
      "cell_type": "code",
      "source": [
        "INPUT_FILE = '/content/wiki.txt'"
      ],
      "metadata": {
        "id": "hyIY38-RWE9B"
      },
      "execution_count": 6,
      "outputs": []
    },
    {
      "cell_type": "code",
      "source": [
        "def parse_article(article: str) -> str:\n",
        "    \"\"\"URL статьи <tab> название статьи <tab> текст -> текст\"\"\"\n",
        "    return article.split(\"\\n\")[-1]\n",
        "\n",
        "\n",
        "def split_text(article_text: str) -> list[str]:\n",
        "    return article_text.split(\" \")"
      ],
      "metadata": {
        "id": "c_XMsRk1Wc3f"
      },
      "execution_count": 4,
      "outputs": []
    },
    {
      "cell_type": "code",
      "source": [
        "sc = SparkContext(master='local[*]')"
      ],
      "metadata": {
        "id": "WKdAK8eyWhwR"
      },
      "execution_count": 7,
      "outputs": []
    },
    {
      "cell_type": "markdown",
      "source": [
        "### 1. Напишите программу, которая находит самое длинное слово"
      ],
      "metadata": {
        "id": "ecrYqANHWtZk"
      }
    },
    {
      "cell_type": "code",
      "source": [
        "def filter_links(words: list[str]) -> list[str]:\n",
        "    return [word for word in words if \"http\" not in word]\n",
        "\n",
        "def longest_word(words: list[str]) -> tuple[int, str]:\n",
        "    return max((len(w), w) for w in words)"
      ],
      "metadata": {
        "id": "5WknFg58WkKX"
      },
      "execution_count": 19,
      "outputs": []
    },
    {
      "cell_type": "code",
      "source": [
        "(\n",
        "    sc.textFile(INPUT_FILE)\n",
        "    .map(parse_article)\n",
        "    .map(split_text)\n",
        "    .map(filter_links)\n",
        "    .map(longest_word)\n",
        "    .sortByKey(ascending=False)\n",
        "    .take(1)\n",
        ")"
      ],
      "metadata": {
        "colab": {
          "base_uri": "https://localhost:8080/"
        },
        "id": "RBa08Xc3W4wq",
        "outputId": "812190e3-c54d-45b8-e89e-82da02a36d4e"
      },
      "execution_count": 20,
      "outputs": [
        {
          "output_type": "execute_result",
          "data": {
            "text/plain": [
              "[(84,\n",
              "  '10-[3-[4-(2-гидроксиэтил)пиперидин-1-ил]пропил]-N,N-диметилфенотиазин-2-сульфонамид.')]"
            ]
          },
          "metadata": {},
          "execution_count": 20
        }
      ]
    },
    {
      "cell_type": "markdown",
      "source": [
        "### 2. Напишите программу, которая находит среднюю длину слов."
      ],
      "metadata": {
        "id": "IDq40g-9aFHQ"
      }
    },
    {
      "cell_type": "code",
      "source": [
        "def find_text_and_words_count(words: list[str]) -> tuple[int, int]:\n",
        "    return sum(len(word) for word in words), len(words)"
      ],
      "metadata": {
        "id": "TL5mFXJ7eRoq"
      },
      "execution_count": 21,
      "outputs": []
    },
    {
      "cell_type": "code",
      "source": [
        "rdd = (\n",
        "    sc.textFile(INPUT_FILE)\n",
        "    .map(parse_article)\n",
        "    .map(split_text)\n",
        "    .map(filter_links)\n",
        "    .map(find_text_and_words_count)\n",
        "    .reduce(lambda x, y: (x[0] + y[0], x[1] + y[1]))\n",
        ")\n",
        "\n",
        "rdd[0] / rdd[1]"
      ],
      "metadata": {
        "colab": {
          "base_uri": "https://localhost:8080/"
        },
        "id": "ULNbC_e1Y7yU",
        "outputId": "01545d1f-a79e-4fc8-d4f4-961329105804"
      },
      "execution_count": 25,
      "outputs": [
        {
          "output_type": "execute_result",
          "data": {
            "text/plain": [
              "6.514373340602216"
            ]
          },
          "metadata": {},
          "execution_count": 25
        }
      ]
    },
    {
      "cell_type": "markdown",
      "source": [
        "### 3. Напишите программу, которая находит самое частоупотребляемое слово, состоящее из латинских букв."
      ],
      "metadata": {
        "id": "Qufa00JUfZj1"
      }
    },
    {
      "cell_type": "code",
      "source": [
        "def is_latin(word: str) -> bool:\n",
        "    if not word:\n",
        "        return False\n",
        "    return all(char.isalpha() and ord(char) < 128 for char in word)\n",
        "\n",
        "\n",
        "def filter_latin_words(words: list[str]) -> list[str]:\n",
        "    return [word for word in words if is_latin(word=word)]\n",
        "\n",
        "\n",
        "def most_common_word(words: list[str]) -> tuple[str, int]:\n",
        "    if not words:\n",
        "        return \"\", 0\n",
        "    cnt = Counter(words)\n",
        "    most_common = cnt.most_common(1)[0]\n",
        "    return most_common[0], most_common[1]\n",
        "\n",
        "\n",
        "def compare_freqs(x: tuple[str, int], y: tuple[str, int]) -> tuple[str, int]:\n",
        "    if x[1] > y[1]:\n",
        "      return x\n",
        "    return y"
      ],
      "metadata": {
        "id": "7ZNxsNe7yzAS"
      },
      "execution_count": 38,
      "outputs": []
    },
    {
      "cell_type": "code",
      "source": [
        "rdd = (\n",
        "    sc.textFile(INPUT_FILE)\n",
        "    .map(parse_article)\n",
        "    .map(split_text)\n",
        "    .map(filter_links)\n",
        "    .map(filter_latin_words)\n",
        "    .map(most_common_word)\n",
        "    .groupByKey()\n",
        "    .mapValues(sum)\n",
        "    .sortBy(keyfunc=lambda x: x[1], ascending=False)\n",
        "    .take(1)\n",
        ")\n",
        "\n",
        "rdd[0]"
      ],
      "metadata": {
        "colab": {
          "base_uri": "https://localhost:8080/"
        },
        "id": "geiSbhqAfZVw",
        "outputId": "1bc192d1-d507-442d-b8a3-8d8814782f09"
      },
      "execution_count": 46,
      "outputs": [
        {
          "output_type": "execute_result",
          "data": {
            "text/plain": [
              "('I', 1346)"
            ]
          },
          "metadata": {},
          "execution_count": 46
        }
      ]
    },
    {
      "cell_type": "markdown",
      "source": [
        "### 4. Все слова, которые более чем в половине случаев начинаются с большой буквы и встречаются больше 10 раз."
      ],
      "metadata": {
        "id": "73xII6n-662g"
      }
    },
    {
      "cell_type": "code",
      "source": [
        "def calculate_statistics(words: list[str]) -> list[tuple[str, tuple[int, int]]]:\n",
        "    words_freq = defaultdict(lambda: (0, 0))\n",
        "    for word in words:\n",
        "      if not word:\n",
        "        continue\n",
        "\n",
        "      word_lower = word.lower()\n",
        "      if word[0].isupper():\n",
        "        words_freq[word_lower] = (words_freq[word_lower][0], words_freq[word_lower][1] + 1)\n",
        "      else:\n",
        "        words_freq[word_lower] = (words_freq[word_lower][0] + 1, words_freq[word_lower][1])\n",
        "\n",
        "    if not words_freq:\n",
        "      return None\n",
        "\n",
        "    return [(k, (v[0], v[1])) for k, v in words_freq.items() if (v[1] > v[0]) and (v[0] + v[1] > 10)]"
      ],
      "metadata": {
        "id": "70HZf8dW7rPt"
      },
      "execution_count": 66,
      "outputs": []
    },
    {
      "cell_type": "code",
      "source": [
        "rdd = (\n",
        "    sc.textFile(INPUT_FILE)\n",
        "    .map(parse_article)\n",
        "    .map(split_text)\n",
        "    .map(filter_links)\n",
        "    .map(calculate_statistics)\n",
        "    .filter(lambda lst: bool(lst))\n",
        "    .flatMap(lambda x: [(k, v) for k, v in x])\n",
        "    .groupByKey()\n",
        "    .mapValues(lambda values: (sum(x[0] for x in values), sum(x[1] for x in values)))\n",
        ")\n",
        "\n",
        "rdd.takeSample(num=10, withReplacement=False)"
      ],
      "metadata": {
        "colab": {
          "base_uri": "https://localhost:8080/"
        },
        "id": "n94Ln8Nj6XG_",
        "outputId": "b7a091d5-23e5-42ad-d207-fea243d511d8"
      },
      "execution_count": 68,
      "outputs": [
        {
          "output_type": "execute_result",
          "data": {
            "text/plain": [
              "[('матье', (0, 11)),\n",
              " ('оулу', (0, 21)),\n",
              " ('стейниц', (0, 96)),\n",
              " ('футбольной', (1, 17)),\n",
              " ('примаков', (0, 12)),\n",
              " ('рыкова', (0, 11)),\n",
              " ('кольцевой', (0, 13)),\n",
              " ('ясперс', (0, 16)),\n",
              " ('мурманский', (2, 14)),\n",
              " ('клинтон', (0, 20))]"
            ]
          },
          "metadata": {},
          "execution_count": 68
        }
      ]
    },
    {
      "cell_type": "markdown",
      "source": [
        "### 5. Напишите программу, которая с помощью статистики определяет устойчивые сокращения вида пр., др., ..."
      ],
      "metadata": {
        "id": "VPRxcgYyFmee"
      }
    },
    {
      "cell_type": "code",
      "source": [
        "pattern = r\"^[а-я]{1,3}\\.$\""
      ],
      "metadata": {
        "id": "w7OLDYAzGXbz"
      },
      "execution_count": 86,
      "outputs": []
    },
    {
      "cell_type": "code",
      "source": [
        "def calculate_freqs(words: list[str]) -> list[tuple[str, int]]:\n",
        "    if not words:\n",
        "        return []\n",
        "    cnt = Counter(words)\n",
        "    return list(cnt.items())"
      ],
      "metadata": {
        "id": "E9LffOoAH0kr"
      },
      "execution_count": 82,
      "outputs": []
    },
    {
      "cell_type": "code",
      "source": [
        "rdd = (\n",
        "    sc.textFile(INPUT_FILE)\n",
        "    .map(parse_article)\n",
        "    .map(split_text)\n",
        "    .map(filter_links)\n",
        "    .map(calculate_freqs)\n",
        "    .filter(lambda lst: bool(lst))\n",
        "    .flatMap(lambda x: [(k, v) for k, v in x])\n",
        "    .filter(lambda x: bool(re.match(pattern, x[0])))\n",
        "    .groupByKey()\n",
        "    .mapValues(sum)\n",
        "    .filter(lambda x: x[1] >= 300)\n",
        ")\n",
        "\n",
        "rdd.takeSample(num=10, withReplacement=False)"
      ],
      "metadata": {
        "colab": {
          "base_uri": "https://localhost:8080/"
        },
        "id": "Bdr-kCLyFmB1",
        "outputId": "210866a7-21ef-44e1-dc31-564deee75f30"
      },
      "execution_count": 88,
      "outputs": [
        {
          "output_type": "execute_result",
          "data": {
            "text/plain": [
              "[('век.', 876),\n",
              " ('год.', 1055),\n",
              " ('нет.', 311),\n",
              " ('э.', 579),\n",
              " ('км.', 350),\n",
              " ('в.', 359),\n",
              " ('чел.', 759),\n",
              " ('см.', 302),\n",
              " ('лет.', 1562),\n",
              " ('гг.', 961)]"
            ]
          },
          "metadata": {},
          "execution_count": 88
        }
      ]
    },
    {
      "cell_type": "markdown",
      "source": [
        "### 6. Напишите программу, которая с помощью статистики определяет устойчивые сокращения вида т.п., н.э., ..."
      ],
      "metadata": {
        "id": "u7UHn4R6LazK"
      }
    },
    {
      "cell_type": "code",
      "source": [
        "pattern = r\"^[а-я]{1}\\.[а-я]{1}\\.$\""
      ],
      "metadata": {
        "id": "a7xYsd78Lamr"
      },
      "execution_count": 89,
      "outputs": []
    },
    {
      "cell_type": "code",
      "source": [
        "rdd = (\n",
        "    sc.textFile(INPUT_FILE)\n",
        "    .map(parse_article)\n",
        "    .map(split_text)\n",
        "    .map(filter_links)\n",
        "    .map(calculate_freqs)\n",
        "    .filter(lambda lst: bool(lst))\n",
        "    .flatMap(lambda x: [(k, v) for k, v in x])\n",
        "    .filter(lambda x: bool(re.match(pattern, x[0])))\n",
        "    .groupByKey()\n",
        "    .mapValues(sum)\n",
        ")\n",
        "\n",
        "rdd.takeSample(num=10, withReplacement=False)"
      ],
      "metadata": {
        "colab": {
          "base_uri": "https://localhost:8080/"
        },
        "id": "5dsYjwvmLv0u",
        "outputId": "a578ce8d-401f-43e5-ff23-9c5be77da0a7"
      },
      "execution_count": 92,
      "outputs": [
        {
          "output_type": "execute_result",
          "data": {
            "text/plain": [
              "[('д.р.', 1),\n",
              " ('д.н.', 1),\n",
              " ('т.п.', 17),\n",
              " ('в.в.', 1),\n",
              " ('и.о.', 5),\n",
              " ('п.м.', 2),\n",
              " ('р.п.', 10),\n",
              " ('т.о.', 2),\n",
              " ('а.е.', 1),\n",
              " ('с.ш.', 17)]"
            ]
          },
          "metadata": {},
          "execution_count": 92
        }
      ]
    }
  ]
}